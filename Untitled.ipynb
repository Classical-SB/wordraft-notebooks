{
 "cells": [
  {
   "cell_type": "code",
   "execution_count": 1,
   "id": "4f6daba5",
   "metadata": {},
   "outputs": [],
   "source": [
    "import psycopg2"
   ]
  },
  {
   "cell_type": "code",
   "execution_count": 14,
   "id": "1020f31a",
   "metadata": {},
   "outputs": [
    {
     "name": "stdout",
     "output_type": "stream",
     "text": [
      "('6104973-15', 'Eric Glass', 'Cocoa Abdallah', 'Red Bank Veterinary Hospital - Tinton Falls', datetime.datetime(2020, 11, 20, 13, 2), 'Summary\\nHistory\\nPresenting Complaint: Thoracic metastasis screen\\nHistory, Clinical Findings\\nseizures, mri tomorrow\\nNotes to Specialist\\nRadiology Services (6104973-15)\\nRadiographs Only    Routine Delivery    \\n52.00\\nTotal:  52.00\\nImage(s) sent via: DICOM Send View Images', 'Bichon Frise', 'Male, Neutered', 'Dog', None, 'vetmedstat', None, 5503)\n"
     ]
    }
   ],
   "source": [
    "engine = psycopg2.connect(\n",
    "    database=\"postgres\",\n",
    "    user=\"postgres\",\n",
    "    password=\"R$qalt2234567\",\n",
    "    host=\"radimal.cil3ev1q8pda.us-east-1.rds.amazonaws.com\",\n",
    "    port='5432'\n",
    ")\n",
    "\n",
    "cursor = engine.cursor()\n",
    "\n",
    "cursor.execute(\"SELECT * FROM radimal.cases;\")\n",
    "print(cursor.fetchone())"
   ]
  },
  {
   "cell_type": "code",
   "execution_count": 15,
   "id": "7cdbfd0a",
   "metadata": {},
   "outputs": [
    {
     "name": "stdout",
     "output_type": "stream",
     "text": [
      "(14588,)\n"
     ]
    }
   ],
   "source": [
    "cursor.execute(\"SELECT COUNT(*) FROM radimal.cases;\")\n",
    "print(cursor.fetchone())"
   ]
  },
  {
   "cell_type": "code",
   "execution_count": null,
   "id": "c8369efa",
   "metadata": {},
   "outputs": [],
   "source": []
  }
 ],
 "metadata": {
  "kernelspec": {
   "display_name": "Python 3",
   "language": "python",
   "name": "python3"
  },
  "language_info": {
   "codemirror_mode": {
    "name": "ipython",
    "version": 3
   },
   "file_extension": ".py",
   "mimetype": "text/x-python",
   "name": "python",
   "nbconvert_exporter": "python",
   "pygments_lexer": "ipython3",
   "version": "3.8.8"
  }
 },
 "nbformat": 4,
 "nbformat_minor": 5
}
