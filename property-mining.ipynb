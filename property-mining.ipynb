{
 "cells": [
  {
   "cell_type": "code",
   "execution_count": null,
   "metadata": {},
   "outputs": [],
   "source": [
    "# https://spacy.io/usage/v3\n",
    "import spacy\n",
    "import json\n",
    "import random\n",
    "from spacy import displacy\n",
    "from IPython.display import HTML as html_print\n",
    "import pprint\n",
    "import requests\n",
    "!python3 -m spacy download en_core_web_sm\n",
    "nlp = spacy.load(\"en_core_web_sm\")"
   ]
  },
  {
   "cell_type": "code",
   "execution_count": null,
   "metadata": {},
   "outputs": [],
   "source": [
    "%%javascript\n",
    "IPython.OutputArea.auto_scroll_threshold = 15000;"
   ]
  },
  {
   "cell_type": "markdown",
   "metadata": {},
   "source": [
    "***\n",
    "***CONSTANTS***\n",
    "***"
   ]
  },
  {
   "cell_type": "code",
   "execution_count": null,
   "metadata": {},
   "outputs": [],
   "source": [
    "COPULAS = [\"is\", \"are\", \"were\"]\n",
    "\n",
    "VALID_PREDICATE_K_V_PAIRS = [\n",
    "    (\"dep\",\"acomp\"),\n",
    "    (\"dep\",\"amod\"),\n",
    "    (\"dep\",\"attr\")\n",
    "]\n",
    "\n",
    "VERB_TAGS = [\"AUX\",\"VERB\"]\n",
    "\n",
    "WORDCRAFT_WORDS = \"Mediterranean,abdicate,abhor,abhorrent,abstract,acanthocephalan,accredit,accreditation,acephalous,acholia,achromatic,acousticophobe,acousticophobia,acquire,acquisition,acrokinesia,acrolect,acrolith,acronym,acropathy,acrophobe,acrophobia,acuity,acumen,acupuncture,acupuncturist,acute,adenitis,adenoma,aerobic,aerolith,aeronaut,aeronautical,aeronautics,aeropathy,aerophobe,aerophobia,aestivation,affluence,aggravate,agnostic,agnosticism,agoraphobe,agoraphobia,albedo,albinism,albino,album,albumen,algophobe,algophobia,alienable,allegory,allergen,allergic,allergy,alleviate,alliteration,allonym,allopatric,altimeter,ambidextrous,amnesia,amorphous,anaerobic,analgesic,anarchic,anarchy,android,anesthetic,angiopathy,anhedonia,animal,animate,animation,animism,animosity,anisogamy,annihilate,annihilation,anniversary,annual,annually,annull,anonymous,anosmia,antebellum,antediluvian,anthophile,anthophilia,anthozoa,anthracemia,anthropogeny,anthropoid,anthropology,anthropophobe,anthropophobia,anthroposophical,anthroposophist,anthroposophy,antifungal,antigen,antineutrino,antipsychotic,antonym,apathy,apiary,apiculture,apnea,apocarps,apocarpy,appendage,appendices,appendicitis,appendix,apteral,apterous,apteryx,aquaculture,aquanaut,aquifer,arachnophobe,arachnophobia,arboriculture,archaeoastronomy,archaeology,archaic,archosaur,argonaut,aristocracy,armadillo,arteriopathy,arthralgia,arthritis,arthropod,arthroscope,artiodactyl,assimilate,asterisk,asteroid,astral,astrobiology,astrocyte,astrolabe,astrologer,astrology,astronaut,astronomer,astronomy,asymmetry,asymptote,athlete,athletic,atom,atrophy,audible,audience,audiogenic,audiogram,audiogram,audiologist,audiology,audiometer,audiometry,audiopathy,audiophile,audiovisual,auditorium,autocracy,autocrat,autograph,autohypnosis,autohypnotic,automatic,automobile,autonomous,autophagy,autotomy,autotroph,avian,aviary,aviation,aviator,aviatrix,aviculture,bacteriacide,bacteriology,bankrupt,baritone,barometer,basilect,batholith,bathometer,bathynaut,belligerent,benediction,benefactor,beneficial,beneficiary,benefit,benevolence,benevolent,benign,benthic,biannual,biathlete,biathlon,bibliographer,bibliography,bibliology,bibliomancy,bibliomania,bibliomaniac,bibliophile,bibliophilia,bibliophobe,bibliophobia,bibliotherapy,bicentennial,bicephalous,biceps,bicycle,bident,biennial,bilateral,bilingual,bilith,bimeter,binary,binomial,biocide,biology,biome,biomimetic,bioscope,biped,bipod,bisect,bisector,brachialgia,brachiopod,brachycephalic,brachypterous,bradycardia,breviary,brevity,bryophyte,bryozoa,bureaucracy,bursitis,cacodemon,cacography,cacophonous,cacophony,calligrapher,calligraphy,canine,capital,captivating,captivity,capture,cardiac,cardinal,cardiogenic,cardiogram,cardiograph,cardioid,cardiologist,cardiology,cardiopathy,carnivore,carnivorous,carpophore,carpospore,cavity,celestial,celestine,cellulitis,centennial,centimeter,centipede,centrifuge,centroid,century,cephalalgia,cephalic,cephalization,cephalochordate,cephalometry,cephalopod,cephalothorax,cerebropathy,cessation,cetology,chaeta,chela,chelate,chelicera,cheliped,chemolithoautotroph,chemotroph,chiliad,chiliagon,chiliarch,chiliasm,chiliast,chilitis,chiral,chirality,chirographer,chirography,chiromancer,chiromancy,chiropodist,chiropractor,chiropteran,chirotherium,chlorosis,chondroma,chondropathy,chord,chordate,chromatophore,chromium,chromogen,chromophobe,chromosome,chromosphere,chronic,chronolect,chronology,chronometer,chronophobe,chronophobia,chrysalis,chrysanthemum,chrysolite,chrysotherapy,circuit,circuitous,circular,circumambulate,circumference,circumflex,circumfluous,circumlocution,circumscribe,circumscribed,circumspect,circumstances,circumstantial,circumstellar,circumvent,circus,cirrhosis,civic,civil,civility,civilization,civilize,clamor,clarification,clarify,clarity,claustrophobe,claustrophobia,cnidarian,codependency,codependent,coleoptera,colitis,colloquial,colloquium,colotomy,comet,commensalism,complacency,complacent,compunction,concave,confluence,congregate,congregation,congruent,conifer,conscience,conscientious,conscious,consciousness,constellation,contact,contagious,contemporaneous,contemporaneously,contemporary,contemporize,contiguous,contingency,contingent,contort,contortion,contradict,contradiction,contradictory,convex,coronation,coronavirus,cosmetics,cosmetology,cosmologist,cosmology,cosmonaut,cosmopolis,cosmopolitan,craniectomy,credence,credential,credible,credit,creditor,credo,credulity,creed,crocodile,crucifer,cruciform,crypsis,cryptic,cryptogenic,cryptogram,cryptographer,cryptography,cryptolect,cryptology,cryptonym,cryptozoa,cryptozoologist,cryptozoology,cuboid,culpable,cuneiform,cyanosis,cyclamen,cyclical,cyclist,cycloid,cyclometer,cyclone,cyclops,cyclorama,cynic,cynic,cynical,cynical,cynocephalic,cynocephalus,cynocephaly,cynomorpha,cynophile,cynophilia,cynophobe,cynophobia,cystitis,cystocarp,cystolith,cytopathy,cytophotometry,cytoplasm,cytosis,dactyl,dactylic,dactylitis,dactylography,dactylology,dactylomegaly,dactylus,decade,decagon,decahedron,decaliter,decalogue,decapod,decathlete,decathlon,december,decet,decibel,decigram,decimal,decimate,decimeter,declaration,decrypt,demagogue,democracy,democratic,demography,demonology,demotic,dendriform,dendrite,dendritic,dendrochronologist,dendrochronology,dendrogram,dendroid,dendrology,denticle,dentifrice,dentition,dentoid,dentophobe,dentophobia,denture,depend,dependability,dependable,dependence,dependency,dependent,dermatitis,dermatoglyph,dermatologist,dermatology,dermatopathy,dermatophyte,dermatotrophy,dermoptera,detritivore,detritivorous,devastate,devastation,dexterity,dexterous,dextral,dextrocardia,diagnose,diagnosis,diagnostician,diagonal,dialect,diatom,dictate,dictator,diction,dictum,didactyl,diffraction,diffractometer,digit,digital,digitigrade,dignity,dipsomania,dipsosis,diptera,dipteral,dipteran,disaster,discord,discredit,disruption,dissimilar,distortion,diurnal,dodecagon,dodecahedron,dodecaphonic,dolichocephalic,dolphin,domestication,dormancy,dormant,dormant,dormitory,dormouse,dorsal,dubious,duet,duplicate,dyspnea,dystopia,eccentric,eccentricity,echinoderm,ecocide,ecolect,ectotherm,egocentric,egomania,egotistical,egregious,electroencephalogram,electroencephalographer,electroscope,elevation,elevator,eloquence,eloquent,elucidate,emigrant,emigrate,emigration,emotion,emotional,encephalitis,encephalitogen,encephalitogenic,encephalopathy,enchiridion,encrypt,encryption,encyclical,encyclopedia,encyclopedic,endocardium,endocarp,endocrinosis,endodontist,endolithic,endoparasite,endoparasitic,endoscope,endoskeleton,endosymbiosis,endotherm,entomology,eolithic,epicarp,epidemic,epidemiology,epidermis,epilithic,equality,equanimity,equator,equilateral,equinoctial,equinophile,equinophilia,equinophobe,equinophobia,equinox,eruption,eschatology,estivation,ethnocentrism,ethnolect,eukaryote,eulogy,euphony,eupnea,euthanasia,eutrophication,exculpate,exhalation,exobiology,exodontist,exodus,exonerate,exophthalmic,exorbitant,exoskeleton,expatriate,expedient,extemporaneous,extemporaneously,extortion,extragalactic,extraneous,extraterrestrial,extricate,extrovert,facsimile,factoid,ferret,ferry,finite,flora,floriation,floriculture,florid,floriferous,florigenic,florist,flu,fluctuate,fluctuation,fluency,fluent,fluid,fluidity,flux,folivore,foraminafer,fortuitous,fortuity,fortunate,fortune,fossiliferous,fractal,fraction,fractionation,fractious,fragile,fragment,fragmentary,fragmentation,fructify,fructivore,fructose,fungal,fungicide,fungiform,fungistatic,fungivore,fungoid,fusiform,galactagogue,galactic,galactic,galactose,galaxy,galaxy,gamete,gastric,gastritis,gastrolith,gastronome,gastronomy,gastropathy,gastropod,gastroscope,genome,genotype,geocentric,geography,geologist,geology,geomancer,geomancy,geometry,geomorphology,geophile,germicide,germophobe,germophobia,gerontocracy,gerontology,glossophobe,glossophobia,glyph,gnosis,gnostic,gnosticism,granolithic,graphology,gregarious,gyroscope,halitosis,halophile,hedonism,hedonist,helicoid,helicopter,heliocentric,heliograph,heliometer,heliophile,heliophilia,heliophobe,heliophobia,heliotherapy,heliotrope,helium,hemiptera,hemopathy,hemophilia,hemophobe,hemophobia,hemovore,hepatalgia,hepatopathy,heptagon,heptameter,heptarchy,herbal,herbalist,herbarium,herbicide,herbivore,herbivorous,heterochromatic,heterodox,heterogenous,heteropod,heteroptera,heteropterous,heterotroph,hexadecimal,hexagon,hexahedron,hexameter,hexapod,hexarchy,hibernation,hierarchy,hieroglyph,hippodrome,hippopotamus,histogram,homeostasis,homicide,hominoid,homogenous,homonym,homoptera,homopterous,horoscope,horrendous,horrible,horrid,horrific,horrifying,horror,horticulture,hydrocephaly,hydrology,hydromancy,hydrophilia,hydrophobe,hydrophobia,hydrophone,hydrosphere,hypermania,hyperpnea,hypertrophy,hypnagogic,hypnalgia,hypnoid,hypnophobe,hypnophobia,hypnosis,hypnotherapist,hypnotherapy,hypnotic,hypnotically,hypnotism,hypnotist,hypnotizable,hypnotize,hypodermic,hypodermic,hypomania,hypopnea,hypothalamus,hypothermia,iatrogenic,iatrophobe,iatrophobia,ichthyology,ichthyoplankton,ichthyosaur,iconic,iconoclast,icosahedron,idiolect,idiolect,idiophone,ignominy,illegality,illegitimacy,illegitimate,illiteracy,illiterate,illuminate,immigrant,immigration,immobile,immortal,immutable,impediment,impend,impending,imperturbable,implacable,inalienable,inanimate,inaudible,incessant,incivility,incredible,incredulous,independent,indict,indictment,indomitable,indubitable,inequality,inextricably,infinite,influence,influenza,influx,infrared,infrasonic,inhalation,injustice,innate,innocuous,inquiry,inquisition,inquisitive,inquisitor,insanity,inscribed,insecticide,insectivore,insectivorous,insomnia,insomniac,intact,intangible,integer,integrity,interdependent,intergalactic,intermediary,interment,interplanetary,interregnum,intersect,intersection,interstellar,intractable,intravenous,intrepid,introspection,introvert,invertebrate,inveterate,irrelevance,irrelevancy,irrelevant,isochrone,isogamy,isogloss,isogon,isograft,isogram,isometric,isopod,isosceles,isothermal,jurisdiction,juvenile,kakistocracy,kaleidoscope,keratin,keratosis,kilometer,kleptocracy,kleptomania,kleptomaniac,kryolith,lactase,lactation,lacteal,lacteous,lactic,lactose,laryngoscope,leaven,legal,legalize,legerdemain,legislate,legislation,legislator,legislature,legitimacy,legitimate,legitimation,legitimize,lepidoptera,lepidopterologist,lepidopterology,lepidopterophile,lepidopterophobe,levant,levee,lever,leverage,levitate,levitation,levity,levy,lignophagia,lingual,linguine,linguist,linguistics,literacy,literal,literally,literary,literate,literati,literature,lithemia,lithemia,lithic,lithify,lithium,lithograph,lithographer,lithographic,lithography,lithoid,lithology,lithophane,lithophone,lithophyte,lithosphere,lithotomy,loquacious,lucid,lucifer,luminary,luminiferous,luminosity,luminous,lunatic,macrocosm,macroeconomics,macrofossil,macrofungi,macrolepidoptera,macromolecule,macrophotography,macroscopic,magnanimous,magnificent,maladjusted,malaise,malaria,malcontent,malediction,malefactor,maleficent,malevolence,malevolent,malfeasance,malfunction,malice,malicious,malignant,malnutrition,malodorous,malpractice,maltreatment,manacles,manicure,marinate,marine,mariner,matriarch,matriarchy,matrilect,matrimony,matriphagous,matriphagy,matronym,median,mediation,mediocre,mediterranean,megabat,megalith,megalithic,megalomania,megalomaniac,megaphone,megapod,megatherium,megavirus,melancholy,melanin,mellifluous,mesencephalon,mesocarp,mesoderm,mesograzer,mesolect,meson,mesopotamia,mesosphere,metamorphosis,meteoroid,microbat,microbe,microbiology,microcephalic,microcephaly,microcosm,microeconomics,microfauna,microflora,microfossil,microfungi,microgram,micrograph,microlepidoptera,microlith,microlithic,micron,microorganism,microphone,microphotography,microphotometer,microscope,microscopic,microsecond,microtome,migrate,migration,migratory,militancy,millennium,millimeter,millipede,mime,mimeograph,mimesis,mimetic,mimic,mimicry,misanthrope,misfortune,misnomer,mnemonic,mob,mobile,mobility,mobilization,mobilize,mobocracy,mollify,monarch,monarchist,monarchy,monism,monocarp,monochromatic,monoculture,monogamy,monogastric,monogon,monogon,monogram,monograph,monolingual,monolith,monolithic,monologue,monomania,monomaniac,monomorphic,monophonic,monopod,monopoly,monosyllabic,monotheism,monotheistic,moribund,morpheus,morphine,mortality,mortification,motile,motility,motion,motivate,motivation,motive,motorcycle,multilateral,multilingual,murophile,murophilia,murophobe,murophobia,mutagen,mutant,mutation,mycoflora,mycology,mycorrhiza,myocardium,myopathic,myopathy,myrmecophile,myrmecophilia,myrmecophobe,myrmecophobia,nascent,natal,naumachy,nausea,nauseate,nauseating,nauseous,nautical,nautilus,nebula,nebular,nebulize,nebulous,necrology,necromancer,necromancy,necrophagous,necropolis,necropsy,necrosis,nectar,nectarivore,nekton,nektonic,neolithic,neologism,neonatal,neoorthodoxy,neophile,neophilia,neophobe,neophobia,neophobic,neophyte,neuter,neutral,neutrality,neutralization,neutralize,neutrino,neutron,nihilism,noctambulism,noctambulist,nocturnal,nomenclature,nominate,nonagon,nonet,nosologist,nosology,notochord,noxious,nullification,nullify,nyctophile,nyctophilia,nyctophobe,nyctophobia,obliterate,obliteration,octagon,octahedron,octal,octameter,octant,octarchy,octave,octet,octogenarian,octopus,octuple,octuplet,odometer,oligarch,oligarchy,oligochaete,oligopoly,ombrometer,omniarch,omnidirectional,omnipotent,omnipresent,omniscience,omniscient,omnivore,omphalitis,omphalos,omphaloskepsis,oneiric,oneirology,oneiromancy,oneironaut,oneirophobe,oneirophobia,onerous,ontogeny,ontology,ophthalmitis,ophthalmologist,ophthalmology,opthalmoscope,orb,orbit,orbital,ordinal,ornithocopter,ornithologist,ornithology,ornithomimid,ornithopod,ornithopter,ornithopter,orthodontist,orthodox,orthodoxy,orthogenesis,orthogonal,orthograde,orthographic,orthography,orthopedics,orthoptera,orthopteran,oscilloscope,ossicle,ossify,ossuary,osteoarthritis,osteology,osteoma,osteophagy,osteoporosis,osteoporosis,osteotomy,osteotomy,otolith,otology,otoscope,oval,oviform,oviparous,pachyderm,pachydermia,pacific,pacification,pacifism,pacifist,pacify,pandemic,pandemonium,pandoravirus,pangram,panic,panophobe,panophobia,panopticon,pansophism,pantheon,pantomime,paradox,paralect,parapodia,parasite,parasitism,parasol,parasomnia,pathogen,pathological,patriarch,patriarchy,patrician,patrilect,patrilineal,patrimony,patriot,patriotic,patriotism,patristics,patron,patronage,patronym,pedal,pedestal,pedestrian,pediculicide,pedicure,pediform,pedometer,pelagic,pendant,penguin,pentagon,pentahedron,pentameter,pentarchy,pentathlete,pentathlon,perennial,pericardium,pericarp,pericarp,period,periodic,periodontist,periscope,perissodactyl,perpendicular,pesticide,petrified,petrify,phenotype,philanthropist,philanthropy,philodendron,philologist,philology,philosopher,philosophy,phonautograph,phonograph,photoautotroph,photobiology,photochromism,photolithograph,photophobe,photophobia,photosphere,photosynthesis,photosynthetic,phototroph,phylogeny,physiopathology,pisciculture,pisciform,piscivore,piscivorous,placate,placebo,placid,placoderm,planet,planetarium,planetary,plankton,plateau,platelet,platyhelminth,platypus,platyrrhine,platysma,pneuma,pneumatic,pneumatology,pneumatophore,pneumograph,pneumonectomy,pneumonia,pneumostome,podiatrist,podiatry,podium,podocarp,podomancy,poison,polyandry,polyandry,polyatomic,polycarpy,polycentrism,polychaete,polychotomy,polychromatic,polydactylic,polydipsia,polygala,polygalactia,polygamy,polygastric,polygenesis,polyglot,polygon,polygraph,polygyny,polyhedron,polymer,polymorphic,polymorphism,polyphagous,polyphonic,polyphony,polypnea,polypod,polysemous,polysyllabic,polysynaptic,polytheism,porcupine,porpoise,postbiblical,posthypnotic,potable,potion,prebiblical,predict,predictable,prediction,predictive,prerequisite,prescient,primacy,primal,primarily,primary,primate,primatologist,primatology,prime,primer,primeval,primitive,primitivism,primogeniture,primordial,prism,proclamation,progeny,prognosis,prognostic,prognosticate,prognosticator,prokaryote,protocol,protoderm,protogalaxy,protohistorian,protohistory,protohuman,proton,protophyta,protoplanet,protoplasm,protopod,protostar,prototype,protozoa,protozoologist,protozoology,pseudepigraphy,pseudomorph,pseudonym,pseudopod,pseudorandom,pseudoscience,pseudoscope,pseudoscorpion,psychiatric,psychiatry,psycholinguistics,psychosis,psychosomatic,psychotic,psychotomimetic,pteranodon,pterodactyl,pteropod,pterosaur,pterygoid,punctual,punctuate,punctuation,puncture,pyrogen,pyromancy,pyromania,pyromaniac,pyrometer,pyrophobe,pyrophobia,quadrangle,quadrant,quadraphonic,quadrennium,quadricentennium,quadriceps,quadricycle,quadrilateral,quadrillion,quadripartite,quadrivium,quadruped,quadrupedal,quadruple,quantile,quartet,quartic,quartile,querulous,query,quintet,quintic,quintile,radiation,radiology,radiometer,ramiform,recyclable,recycle,reflux,regal,regent,regicide,regolith,reincarnation,relevance,relevancy,relevant,relief,relieve,renaissance,renal,reniform,renogram,renography,require,requirement,respiration,retardant,retraction,retrospective,rhinencephalon,rhinitis,rhinoceros,rhinoceros,rhinoplasty,rhinoscope,rhinovirus,rhizoid,rhizome,rhizomorph,rhizopus,rhizosphere,rhodium,rhododendron,rhynchocephalian,rhynchosaur,rodenticide,rotifer,rotiform,rupture,sane,sanitarium,sanitary,sanitation,sanity,saprophage,saprotroph,sarcocarp,sarcophagus,scalar,schizocarp,schizogony,schizoid,schizont ,schizophrenia,schizophrenic,schizopod,sclerometer,section,sediment,sedulous,segregation,selenium,selenocentric,selenography,selenologist,selenology,selenophobia,semiannual,senator,senectitude,senescence,senile,senility,senior,seniority,sentient,septet,sextet,similarity,similitude,sinecure,sinistrodextral,sociolect,sociology,solar,solarium,solarize,soliloquy,solitude,solstice,somatic,somnambulant,somnambulate,somnambulism,somnambulist,somnifacient,somniferous,somniloquy,somnolence,somnolent,spatiotemporal,spectroscope,spherical,spirochaete,squirrel,statolith,stellar,stellification,stereoscope,stereoscopic,stethoscope,stratiform,stultify,subaudible,sublingual,subterranean,superfluous,supernova,suspend,suspenders,suspense,suspension,symbiont,symbiosis,symbiotic,symmetry,sympatric,symphony,symposium,syncarp,syndactylism,synonym,tachycardia,tachyometer,tachyon,tacit,taciturn,tact,tactile,tangent,tangential,tangible,tardigrade,tardyon,taxidermy,technophile,technophilia,technophobe,technophobia,telegram,telegraph,telegraphist,telekinesis,telemeter,telepath,telepathy,telephone,teleport,teleportation,telescope,television,temporal,temporality,temporalize,temporarily,temporary,temporize,tenacious,tenacity,teratogen,terrace,terrain,terrarium,terrestrial,terrier,territorial,territory,tetrachord,tetrad,tetragon,tetragrammaton,tetrahedron,tetralogy,tetrameter,tetrarchy,thalamus,theocentric,theocracy,theologian,theology,thermoformation,thermometer,thermophile,thermophilia,thermophobe,thermophobia,thermoscope,timidity,timorous,titaniferous,topolect,toponym,torque,torsion,tortrix,tortuous,toxicology,transfer,transliteration,trepidation,triad,triangle,triarchy,triathlete,triathlon,tricephalic,triceps,triceratops,trichoptera,tricycle,trident,triennial,trigonometry,trihedron,trilingual,trilith,trilogy,trimeter,trio,triple,triplet,triplicate,tripod,triskadekaphobe,triskadekaphobia,triskelion,trivia,trivial,turbulence,tyrannicide,ultrasonic,unanimity,unanimous,uncivilized,unfortunate,unguligrade,unicellular,unicycle,uniform,unilateral,unorthodox,unpatriotic,unpredictable,unsanitary,untenable,utopia,valedictorian,variable,variance,variform,vast,vector,velocipede,venerable,veneration,ventriloquist,ventriloquy,veracity,verdict,verify,verisimilitude,vermicide,vermiculture,vermiform,vermin,vertebrate,vertex,vertical,veteran,viniculture,viniferous,virulence,virulent,virus,voracious,vulcanology,xenobiotic,xenogamy,xenogenesis,xenolect,xenolith,xenology,xenon,xenophile,xenophilia,xenophobe,xenophobia,xeroderma,xerophagy,xerophile,xerophthalmia,xerophyte,xylocarp,xyloid,xylophage,xylophagous,xylophagy,xylophobia,xylophone,xylotomy,zodiac,zoogony,zoology,zoonosis,zoopathology,zoophobe,zoophobia,zygodactyl,zygote\".split(\",\")\n",
    "\n",
    "FILTER_WORDCRAFT_WORDS = []"
   ]
  },
  {
   "cell_type": "markdown",
   "metadata": {},
   "source": [
    "***\n",
    "***HELPERS***\n",
    "***"
   ]
  },
  {
   "cell_type": "code",
   "execution_count": null,
   "metadata": {},
   "outputs": [],
   "source": [
    "def visualize(doc):\n",
    "    # https://spacy.io/api/top-level#displacy_options\n",
    "    options= {\n",
    "        \"compact\":True,\n",
    "        \"distance\":100,\n",
    "    }\n",
    "    displacy.render(doc, style='dep',jupyter=True,options=options)    \n",
    "    \n",
    "def describe(sentence):\n",
    "    doc = nlp((sentence))\n",
    "    visualize(doc)\n",
    "    print(json.dumps(doc.to_json(), indent=1))    \n",
    "    \n",
    "def first_or_none(lst):\n",
    "    return None if len(lst) == 0 else lst[0]    \n",
    "\n",
    "def flatten(lst):\n",
    "    return [item for sublist in lst for item in sublist]"
   ]
  },
  {
   "cell_type": "markdown",
   "metadata": {},
   "source": [
    "***\n",
    "***DEPENDENCY TREE PARSING METHODS***\n",
    "***"
   ]
  },
  {
   "cell_type": "code",
   "execution_count": null,
   "metadata": {},
   "outputs": [],
   "source": [
    "def children_for(json_doc, head_id, recursive=False):\n",
    "    \"\"\"Recursively find the children and the children's children for a word in a dependency tree.\"\"\"    \n",
    "    results = []\n",
    "    \n",
    "    for x in json_doc[\"tokens\"]:\n",
    "        if x[\"head\"] == head_id and x[\"id\"] != head_id:\n",
    "            results.append(x)\n",
    "            \n",
    "    if recursive and len(results) > 0:\n",
    "        return results + flatten([children_for(json_doc, r[\"id\"], True) for r in results])\n",
    "    else:\n",
    "        return results\n",
    "\n",
    "def find_token_by_attr(tokens, attr, value):\n",
    "    results = [t for t in tokens if t[attr] == value]\n",
    "    return first_or_none(results)\n",
    "\n",
    "def filter_tokens_by_attr(tokens, attr, value):\n",
    "    return [t for t in tokens if t[attr] != value]\n",
    "\n",
    "def filter_tokens_by_attrs(tokens, k_v_pairs):\n",
    "    for key, value in k_v_pairs:\n",
    "        tokens = filter_tokens_by_attr(tokens, key, value)\n",
    "    return tokens\n",
    "\n",
    "def select_tokens_by_attr(tokens, attr, value):\n",
    "    return [t for t in tokens if t[attr] == value]\n",
    "\n",
    "def select_tokens_by_attrs(tokens, k_v_pairs):\n",
    "    result = []\n",
    "    for key, value in k_v_pairs:\n",
    "        result += select_tokens_by_attr(tokens, key, value)\n",
    "    return result\n",
    "\n",
    "def get_verbs(json_doc, only=None):\n",
    "    results = []\n",
    "    for x in json_doc[\"tokens\"]:\n",
    "        value = value_for_token(x, json_doc)\n",
    "        is_verb = x[\"pos\"] in VERB_TAGS\n",
    "        include = only is None or value in only\n",
    "        if is_verb and include:\n",
    "            results.append(x)\n",
    "    return results\n",
    "\n",
    "def sorted_values(tokens, json_doc):\n",
    "    return [t for t in sorted(tokens, key=lambda w: w[\"id\"])]\n",
    "\n",
    "def value_for_token(token, json_doc):\n",
    "    return json_doc[\"text\"][token[\"start\"]:token[\"end\"]].lower()\n",
    "\n",
    "def VERBOSE_print(msg, VERBOSE):\n",
    "    if VERBOSE:\n",
    "        print(msg)\n",
    "\n",
    "# primary entry point\n",
    "def mine(json_doc, verbs, VERBOSE):\n",
    "    results = []\n",
    "    \n",
    "    for verb in get_verbs(json_doc, verbs):\n",
    "        children = children_for(json_doc, verb[\"id\"])\n",
    "        VERBOSE_print(f\"parsing verb {value_for_token(verb, json_doc)}...\", VERBOSE)\n",
    "        subject = find_token_by_attr(children, \"dep\", \"nsubj\")     \n",
    "        if subject is None:\n",
    "            continue\n",
    "            \n",
    "        VERBOSE_print(f\"\\n\\tsubject is: {value_for_token(subject, json_doc)}\", VERBOSE)\n",
    "        predicates = select_tokens_by_attrs(children, VALID_PREDICATE_K_V_PAIRS)\n",
    "                    \n",
    "        subject_deps = children_for(json_doc, subject[\"id\"])\n",
    "        subject_deps = filter_tokens_by_attrs(subject_deps, [(\"pos\", \"DET\"),(\"pos\", \"PUNCT\")])\n",
    "        VERBOSE_print(f\"\\t\\tdependencies are: {', '.join([value_for_token(o, json_doc) for o in subject_deps])}\", VERBOSE)\n",
    "        word = [subject] + subject_deps\n",
    "        \n",
    "        properties = []\n",
    "        \n",
    "        VERBOSE_print(f\"\\n\\tpredicates are: {', '.join([value_for_token(o, json_doc) for o in predicates])}\", VERBOSE)\n",
    "        \n",
    "        for o in predicates:\n",
    "            VERBOSE_print(f\"\\n\\tparsing predicate {value_for_token(o, json_doc)}...\", VERBOSE)\n",
    "            properties.append(o)            \n",
    "            other_deps = children_for(json_doc, o[\"id\"], True)\n",
    "            filtered = filter_tokens_by_attrs(other_deps, [(\"pos\", \"DET\")])\n",
    "            VERBOSE_print(f\"\\t\\tdependencies are: {', '.join([value_for_token(o, json_doc) for o in filtered])}\", VERBOSE)\n",
    "            properties += filtered\n",
    "                  \n",
    "        \n",
    "        word = sorted_values(word, json_doc)\n",
    "        [w.update({\"color\": \"red\"}) for w in word]\n",
    "        properties = sorted_values(properties, json_doc)\n",
    "        [p.update({\"color\": \"blue\"}) for p in properties]\n",
    "        \n",
    "        joined = \" \".join([value_for_token(t,json_doc) for t in word]) \\\n",
    "            + \" - \" \\\n",
    "            + \" \".join([value_for_token(t,json_doc) for t in properties])\n",
    "\n",
    "            \n",
    "        results.append({\"subject\":word, \"properties\":properties, \"joined\":joined})\n",
    "        \n",
    "    return results\n",
    "\n",
    "def mine_sentence(sentence):\n",
    "    return mine_json_doc(nlp((sentence)).to_json(), COPULAS)"
   ]
  },
  {
   "cell_type": "markdown",
   "metadata": {},
   "source": [
    "***\n",
    "***RANDOM WIKIPEDIA TEST***\n",
    "***"
   ]
  },
  {
   "cell_type": "code",
   "execution_count": null,
   "metadata": {},
   "outputs": [],
   "source": [
    "def get_lemmas(tokens):\n",
    "    return [t[\"lemma\"]for t in tokens]\n",
    "\n",
    "def wordcraft_words_in(prop):\n",
    "    lemmas = get_lemmas(prop[\"subject\"]) + get_lemmas(prop[\"properties\"])\n",
    "    words = [w for w in WORDCRAFT_WORDS if w in lemmas]\n",
    "    words = [w for w in words if w not in FILTER_WORDCRAFT_WORDS]\n",
    "    return {\"words\":words,\"count\":len(words)}\n",
    "\n",
    "def has_wordcraft_word(prop):\n",
    "    return wordcraft_words_in(prop)[\"count\"] > 0\n",
    "\n",
    "def insert_str(string, str_to_insert, index):\n",
    "    return string[:index] + str_to_insert + string[index:]   \n",
    "\n",
    "def get_sample_wikipedia():\n",
    "    url = \"https://olivers-things.s3.amazonaws.com/sample-wikipedia.json\"\n",
    "    articles = requests.get(url).json()\n",
    "    print(f\"fetched {len(articles)} articles\")\n",
    "    return articles\n",
    "\n",
    "def mine_sentence(sentence, counter=None, sentences=[], article=None):\n",
    "    doc = nlp(sentence)\n",
    "    json_doc = doc.to_json()\n",
    "    properties = mine(json_doc, COPULAS, False)\n",
    "    properties = [p for p in properties if has_wordcraft_word(p)]\n",
    "\n",
    "    count = sum([wordcraft_words_in(p)[\"count\"] for p in properties])\n",
    "    words = flatten([wordcraft_words_in(p)[\"words\"] for p in properties])\n",
    "    ranges = sorted(flatten([p[\"subject\"] + p[\"properties\"] for p in properties]), key=lambda w: w[\"start\"])\n",
    "\n",
    "    increment = 0\n",
    "\n",
    "    for r in ranges:\n",
    "        start_str = f\"<span style='color:{r['color']};'><b>\"\n",
    "        sentence = insert_str(sentence, start_str, r[\"start\"] + increment)\n",
    "        increment += len(start_str)\n",
    "        end_str = '</b></span>'\n",
    "        sentence = insert_str(sentence, end_str, r[\"end\"] + increment)\n",
    "        increment += len(end_str)\n",
    "\n",
    "    tagged = \"\"\n",
    "\n",
    "    if counter and (counter > 0):\n",
    "        tagged += \"<p style='font-size:1.1em;color: gray;margin:0;line-height:25px;'>\" + sentences[counter - 1] + \"</p>\"\n",
    "\n",
    "    tagged += \"<p style='font-size:1.2em;margin:0;line-height:25px;'>\" + sentence + \"</p>\"\n",
    "\n",
    "    if counter and (counter + 1 < len(sentences)):\n",
    "        tagged += \"<p style='font-size:1.1em;color: gray;margin:0;line-height:25px;'>\" + sentences[counter + 1] + \"</p>\"            \n",
    "\n",
    "    if len(properties) > 0:\n",
    "        return tagged \\\n",
    "            + \"<p style='margin-bottom:5px 0;font-size:0.9em'>\" + \"\\n\".join([p[\"joined\"] for p in properties]) + \"</p>\" \\\n",
    "            + f\"<p style='margin: 0 0 50px 0;font-size:0.9em'><i>found wordcraft word(s) '{' / '.join(words)}' in article '{article['title']}'</i></p>\"\n",
    "\n",
    "def mine_wikipedia_articles(limit = 25):\n",
    "    results = \"\"\n",
    "\n",
    "    random.shuffle(articles)\n",
    "\n",
    "    for article in articles[0:limit]:\n",
    "        sentences = article[\"sentences\"]\n",
    "        counter = 0\n",
    "        \n",
    "        for sentence in sentences:\n",
    "            result = mine_sentence(sentence, counter, sentences, article)\n",
    "            if result:\n",
    "                results += result\n",
    "            counter += 1\n",
    "    \n",
    "    return results"
   ]
  },
  {
   "cell_type": "code",
   "execution_count": null,
   "metadata": {},
   "outputs": [],
   "source": [
    "articles = get_sample_wikipedia()"
   ]
  },
  {
   "cell_type": "code",
   "execution_count": null,
   "metadata": {},
   "outputs": [],
   "source": [
    "FILTER_WORDCRAFT_WORDS = [\"capital\", \"animal\"]\n",
    "\n",
    "NUMBER_OF_ARTICLES_TO_MINE = 3\n",
    "\n",
    "html_print(mine_wikipedia_articles(NUMBER_OF_ARTICLES_TO_MINE))"
   ]
  },
  {
   "cell_type": "markdown",
   "metadata": {},
   "source": [
    "***\n",
    "***SINGLE SENTENCE TEST AND VISUALIZATION***\n",
    "***"
   ]
  },
  {
   "cell_type": "code",
   "execution_count": null,
   "metadata": {},
   "outputs": [],
   "source": [
    "sentence = \"The parent body of the shower is Halley's asteroid, a periodic comet.\"\n",
    "\n",
    "json_doc = nlp((sentence)).to_json()\n",
    "predictions = mine(json_doc, COPULAS, True)\n",
    "print(\"\\nproperty mining algorithm returned:\", [p[\"joined\"] for p in predictions])\n",
    "describe(sentence)"
   ]
  },
  {
   "cell_type": "code",
   "execution_count": null,
   "metadata": {},
   "outputs": [],
   "source": []
  },
  {
   "cell_type": "code",
   "execution_count": null,
   "metadata": {},
   "outputs": [],
   "source": []
  },
  {
   "cell_type": "code",
   "execution_count": null,
   "metadata": {},
   "outputs": [],
   "source": []
  },
  {
   "cell_type": "code",
   "execution_count": null,
   "metadata": {},
   "outputs": [],
   "source": []
  },
  {
   "cell_type": "code",
   "execution_count": null,
   "metadata": {},
   "outputs": [],
   "source": []
  },
  {
   "cell_type": "code",
   "execution_count": null,
   "metadata": {},
   "outputs": [],
   "source": []
  },
  {
   "cell_type": "code",
   "execution_count": null,
   "metadata": {},
   "outputs": [],
   "source": []
  },
  {
   "cell_type": "code",
   "execution_count": null,
   "metadata": {},
   "outputs": [],
   "source": []
  },
  {
   "cell_type": "markdown",
   "metadata": {},
   "source": [
    "***\n",
    "***TEST***\n",
    "***"
   ]
  },
  {
   "cell_type": "code",
   "execution_count": null,
   "metadata": {},
   "outputs": [],
   "source": [
    "sentence_group_1 = [\"The whale is an animal.\",\n",
    "\"The blue whale is an animal.\",\n",
    "\"The whale is a quadrupedal mammal.\",\n",
    "\"The chameleon is a polychromatic arboreal insectivore.\",\n",
    "\"Carnivorous spiders are common.\",\n",
    "\"All cephalopods are nocturnal.\",\n",
    "\"The majority of cephalopods are nocturnal.\",\n",
    "\"Some cephalopods are nocturnal.\",\n",
    "\"No cephalopods are nocturnal.\",\n",
    "\"Most terrestrial gastropods are hermaphrodites.\",\n",
    "\"The simplest gastropods are the limpets and abalone.\",\n",
    "\"A cephalopod is any member of the molluscan class Cephalopoda such as a squid, octopus, cuttlefish, or nautilus.\",\n",
    "\"Gastropods were described as gastropodes by Georges Cuiver.\",\n",
    "\"Cephalopods are widely regarded as the most intelligent of the invertebrates.\"]\n",
    "\n",
    "sentence_group_2 = [\"The fastest biped is the ostrich.\",\n",
    "\"Not all tetrapods are quadrupeds and not all quadrupeds are tetrapods.\",\n",
    "\"A tripod stance is a behaviour in which quadruped animals rear up on their hind legs and use their tail to support their weight.\",\n",
    "\"Brontosaurus (meaning \\\"thunder lizard\\\" from Greek βροντή, \\\"thunder\\\" and σαῦρος, \\\"lizard\\\") is a genus of gigantic quadruped sauropod dinosaurs.\",\n",
    "\"Conrad Gessner (1516–1565) was a Swiss naturalist and bibliographer and one of founding figures of modern zoology.\",\n",
    "\"Sound waves with frequency above 20 kHz are called ultrasonic waves and are inaudble to humans, but some animals, like bats and dolphins, use them.\",\n",
    "\"A timer is a kind of clock for measuring time intervals, often with an audible alarm that the time is up.\",\n",
    "\"There is a debate among audiophiles on whether there is an audible difference between tubes and transistors in sound equipment.\",\n",
    "\"A Geiger counter is an instrument that measures ionizing radiation such as alpha particles, beta particles, or gamma rays. The radiation sensor produces a series of audible clicks when radiation is present.\",\n",
    "\"Autophagy is the process that cells use to break down and recycle cellular components.\"]"
   ]
  },
  {
   "cell_type": "code",
   "execution_count": null,
   "metadata": {},
   "outputs": [],
   "source": [
    "for sentence in sentence_group_1:\n",
    "    json_doc = nlp((sentence)).to_json()\n",
    "    predictions = mine(json_doc, COPULAS, True)\n",
    "    print(\"\\n\")\n",
    "    pprint.pprint(predictions)"
   ]
  },
  {
   "cell_type": "code",
   "execution_count": null,
   "metadata": {},
   "outputs": [],
   "source": []
  }
 ],
 "metadata": {
  "kernelspec": {
   "display_name": "Python 3",
   "language": "python",
   "name": "python3"
  },
  "language_info": {
   "codemirror_mode": {
    "name": "ipython",
    "version": 3
   },
   "file_extension": ".py",
   "mimetype": "text/x-python",
   "name": "python",
   "nbconvert_exporter": "python",
   "pygments_lexer": "ipython3",
   "version": "3.8.8"
  }
 },
 "nbformat": 4,
 "nbformat_minor": 4
}
